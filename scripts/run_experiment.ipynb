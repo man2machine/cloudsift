{
 "cells": [
  {
   "cell_type": "code",
   "execution_count": null,
   "metadata": {},
   "outputs": [],
   "source": [
    "import torch\n",
    "\n",
    "from cloudsift.datasets import get_img_dataset, generate_experiment_data, get_img_train_test_transforms, ImageDatasetType, IMG_DATASET_TO_NUM_CLASSES\n",
    "from cloudsift.simulation import Simulator\n",
    "from cloudsift.utils import get_rel_pkg_path"
   ]
  },
  {
   "cell_type": "code",
   "execution_count": null,
   "metadata": {},
   "outputs": [],
   "source": [
    "device = torch.device('cuda' if torch.cuda.is_available() else 'cpu')"
   ]
  },
  {
   "cell_type": "code",
   "execution_count": null,
   "metadata": {},
   "outputs": [],
   "source": [
    "dataset_type = ImageDatasetType.CIFAR10\n",
    "num_classes = IMG_DATASET_TO_NUM_CLASSES[dataset_type]\n",
    "num_robots = 1"
   ]
  },
  {
   "cell_type": "code",
   "execution_count": null,
   "metadata": {},
   "outputs": [],
   "source": [
    "data_dir = get_rel_pkg_path(\"datasets\")\n",
    "dataset_orig = get_img_dataset(data_dir, dataset_type, combine_train_test=True)['all']"
   ]
  },
  {
   "cell_type": "code",
   "execution_count": null,
   "metadata": {},
   "outputs": [],
   "source": [
    "experiment_data = generate_experiment_data(\n",
    "    dataset_type=dataset_type,\n",
    "    dataset_orig=dataset_orig,\n",
    "    num_robots=num_robots,\n",
    "    num_classes=num_classes,\n",
    "    cloud_dataset_frac=0.02,\n",
    "    cloud_class_imbalance_aggro=0.0,\n",
    "    robot_augmentation_aggro=0.0,\n",
    "    test_dataset_dist='uniform')"
   ]
  },
  {
   "cell_type": "code",
   "execution_count": null,
   "metadata": {},
   "outputs": [],
   "source": [
    "from cloudsift.algorithm.proposed_alg_v1 import LabelingMethod, CloudComputer\n",
    "\n",
    "cloud_computer = CloudComputer(\n",
    "    dataset_type=dataset_type,\n",
    "    num_robots=num_robots,\n",
    "    num_classes=num_classes,\n",
    "    cloud_init_dataset=experiment_data['datasets_raw']['cloud'],\n",
    "    num_pretraining_epochs=10,\n",
    "    max_num_main_epochs_per_round=100,\n",
    "    round_early_stop_acc=0.99,\n",
    "    labeling_method=LabelingMethod.AUTOMATIC,\n",
    "    device=device)"
   ]
  },
  {
   "cell_type": "code",
   "execution_count": null,
   "metadata": {
    "scrolled": true
   },
   "outputs": [],
   "source": [
    "simulator = Simulator(\n",
    "    num_robots=num_robots,\n",
    "    num_classes=num_classes,\n",
    "    experiment_data=experiment_data,\n",
    "    cache_size=(250 * (3 * 32 * 32 + 4 + 1)),\n",
    "    iterations_per_round=50000,\n",
    "    cloud_computer=cloud_computer,\n",
    "    device=device,\n",
    "    enable_batched_inference=True)"
   ]
  },
  {
   "cell_type": "code",
   "execution_count": null,
   "metadata": {
    "scrolled": true,
    "tags": []
   },
   "outputs": [],
   "source": [
    "simulator.initialize()"
   ]
  },
  {
   "cell_type": "code",
   "execution_count": null,
   "metadata": {
    "scrolled": true
   },
   "outputs": [],
   "source": [
    "simulator.run_rounds(30)"
   ]
  },
  {
   "cell_type": "code",
   "execution_count": null,
   "metadata": {},
   "outputs": [],
   "source": [
    "import numpy as np\n",
    "import matplotlib.pyplot as plt\n",
    "\n",
    "fig = plt.figure()\n",
    "ax = fig.add_subplot()\n",
    "ax.bar(np.arange(10) - 0.2, simulator.cloud_training_stats_log._log[0]['dataset_dist'], 0.4, label=\"Initial cloud distribution\")\n",
    "ax.bar(np.arange(10) + 0.2, simulator.cloud_training_stats_log._log[-1]['dataset_dist'], 0.4, label=\"Final cloud distribution\")\n",
    "ax.set_xticks(np.arange(10))\n",
    "ax.set_xlabel(\"Class\")\n",
    "ax.set_ylabel(\"Frequency\")\n",
    "ax.legend()\n",
    "fig.show()\n",
    "\n",
    "fig = plt.figure()\n",
    "ax = fig.add_subplot()\n",
    "ax.bar(np.arange(10) - 0.2, simulator.robot_test_stats_log._log[0][0]['testing_accs_per_class'], 0.4, label=\"Initial accuracy per class\")\n",
    "ax.bar(np.arange(10) + 0.2, simulator.robot_test_stats_log._log[-1][0]['testing_accs_per_class'], 0.4, label=\"Final accuracy per class\")\n",
    "ax.set_xticks(np.arange(10))\n",
    "ax.set_xlabel(\"Class\")\n",
    "ax.set_ylabel(\"Accuracy\")\n",
    "ax.legend()\n",
    "fig.show()\n",
    "\n",
    "fig = plt.figure()\n",
    "ax = fig.add_subplot()\n",
    "ax.bar(np.arange(10) - 0.2, experiment_data['class_dists']['robots'][0], 0.4, label=\"Robot sampling distribution\")\n",
    "ax.bar(np.arange(10) + 0.2, simulator.cloud_training_stats_log._log[-1]['dataset_dist'], 0.4, label=\"Final cloud distribution\")\n",
    "ax.set_xticks(np.arange(10))\n",
    "ax.set_xlabel(\"Class\")\n",
    "ax.set_ylabel(\"Frequency\")\n",
    "ax.legend()\n",
    "fig.show()"
   ]
  },
  {
   "cell_type": "code",
   "execution_count": null,
   "metadata": {},
   "outputs": [],
   "source": []
  }
 ],
 "metadata": {
  "kernelspec": {
   "display_name": "Python [conda env:rot-work-ml]",
   "language": "python",
   "name": "conda-env-rot-work-ml-py"
  },
  "language_info": {
   "codemirror_mode": {
    "name": "ipython",
    "version": 3
   },
   "file_extension": ".py",
   "mimetype": "text/x-python",
   "name": "python",
   "nbconvert_exporter": "python",
   "pygments_lexer": "ipython3",
   "version": "3.10.9"
  },
  "vscode": {
   "interpreter": {
    "hash": "c506cb61b33cb9985ff81d67e2b59870e35495c203220540425c425a9c91a167"
   }
  }
 },
 "nbformat": 4,
 "nbformat_minor": 4
}
