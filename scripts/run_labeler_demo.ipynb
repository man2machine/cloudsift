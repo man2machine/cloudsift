{
 "cells": [
  {
   "cell_type": "code",
   "execution_count": null,
   "id": "cde6cff0-c93e-4f23-80bf-fb3afe5fd3d3",
   "metadata": {},
   "outputs": [],
   "source": [
    "from cloudsift.frontend.labeling_server import CategoricalImageLabelingManager"
   ]
  },
  {
   "cell_type": "code",
   "execution_count": null,
   "id": "2ed9c6fd-0958-4b54-931a-154889cfba79",
   "metadata": {},
   "outputs": [],
   "source": [
    "manager = CategoricalImageLabelingManager()"
   ]
  },
  {
   "cell_type": "code",
   "execution_count": null,
   "id": "2b88023c-9602-4765-a97e-724694680bf7",
   "metadata": {},
   "outputs": [],
   "source": [
    "manager.initialize()"
   ]
  },
  {
   "cell_type": "code",
   "execution_count": null,
   "id": "f113d498-51ef-4184-b6ab-8080b0b0159b",
   "metadata": {},
   "outputs": [],
   "source": [
    "manager.run()"
   ]
  },
  {
   "cell_type": "code",
   "execution_count": null,
   "id": "76b32b40-fcfc-4a1c-b0a8-ef733887c1ea",
   "metadata": {},
   "outputs": [],
   "source": []
  }
 ],
 "metadata": {
  "kernelspec": {
   "display_name": "Python [conda env:rot-work-ui]",
   "language": "python",
   "name": "conda-env-rot-work-ui-py"
  },
  "language_info": {
   "codemirror_mode": {
    "name": "ipython",
    "version": 3
   },
   "file_extension": ".py",
   "mimetype": "text/x-python",
   "name": "python",
   "nbconvert_exporter": "python",
   "pygments_lexer": "ipython3",
   "version": "3.10.9"
  }
 },
 "nbformat": 4,
 "nbformat_minor": 5
}
