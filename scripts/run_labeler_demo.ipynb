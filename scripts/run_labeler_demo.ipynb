{
 "cells": [
  {
   "cell_type": "code",
   "execution_count": 1,
   "id": "cde6cff0-c93e-4f23-80bf-fb3afe5fd3d3",
   "metadata": {},
   "outputs": [],
   "source": [
    "from cloudsift.frontend.labeling_server import CategoricalImageLabelingManager"
   ]
  },
  {
   "cell_type": "code",
   "execution_count": 2,
   "id": "2ed9c6fd-0958-4b54-931a-154889cfba79",
   "metadata": {},
   "outputs": [],
   "source": [
    "manager = CategoricalImageLabelingManager()"
   ]
  },
  {
   "cell_type": "code",
   "execution_count": 3,
   "id": "2b88023c-9602-4765-a97e-724694680bf7",
   "metadata": {},
   "outputs": [
    {
     "name": "stdout",
     "output_type": "stream",
     "text": [
      "HOSTNAME: shahir-work-t4-0\n",
      "ADDRESS: ('localhost', 8001)\n"
     ]
    }
   ],
   "source": [
    "manager.initialize()"
   ]
  },
  {
   "cell_type": "code",
   "execution_count": 4,
   "id": "f113d498-51ef-4184-b6ab-8080b0b0159b",
   "metadata": {},
   "outputs": [
    {
     "name": "stdout",
     "output_type": "stream",
     "text": [
      "Waiting for labeling to finish\n",
      "Waiting for labeling to finish\n",
      "Waiting for labeling to finish\n",
      "Waiting for labeling to finish\n",
      "Waiting for labeling to finish\n",
      "Waiting for labeling to finish\n",
      "Waiting for labeling to finish\n",
      "Waiting for labeling to finish\n",
      "Waiting for labeling to finish\n",
      "Waiting for labeling to finish\n",
      "Waiting for labeling to finish\n",
      "Waiting for labeling to finish\n",
      "Waiting for labeling to finish\n",
      "Waiting for labeling to finish\n",
      "Waiting for labeling to finish\n",
      "Waiting for labeling to finish\n",
      "Waiting for labeling to finish\n",
      "Waiting for labeling to finish\n",
      "Waiting for labeling to finish\n",
      "Waiting for labeling to finish\n",
      "Waiting for labeling to finish\n",
      "Waiting for labeling to finish\n",
      "Waiting for labeling to finish\n",
      "Waiting for labeling to finish\n",
      "Waiting for labeling to finish\n",
      "Waiting for labeling to finish\n",
      "Waiting for labeling to finish\n",
      "Waiting for labeling to finish\n",
      "Waiting for labeling to finish\n",
      "Waiting for labeling to finish\n",
      "Waiting for labeling to finish\n",
      "Waiting for labeling to finish\n",
      "Waiting for labeling to finish\n",
      "Waiting for labeling to finish\n",
      "Waiting for labeling to finish\n",
      "Waiting for labeling to finish\n",
      "Waiting for labeling to finish\n",
      "Waiting for labeling to finish\n",
      "Waiting for labeling to finish\n",
      "Waiting for labeling to finish\n",
      "Waiting for labeling to finish\n",
      "Waiting for labeling to finish\n",
      "Waiting for labeling to finish\n",
      "Waiting for labeling to finish\n"
     ]
    },
    {
     "ename": "KeyboardInterrupt",
     "evalue": "",
     "output_type": "error",
     "traceback": [
      "\u001b[0;31m---------------------------------------------------------------------------\u001b[0m",
      "\u001b[0;31mKeyboardInterrupt\u001b[0m                         Traceback (most recent call last)",
      "Cell \u001b[0;32mIn[4], line 1\u001b[0m\n\u001b[0;32m----> 1\u001b[0m \u001b[43mmanager\u001b[49m\u001b[38;5;241;43m.\u001b[39;49m\u001b[43mrun\u001b[49m\u001b[43m(\u001b[49m\u001b[43m)\u001b[49m\n",
      "File \u001b[0;32m~/work/rot-proj-2022/cloudsift/frontend/labeling_server.py:222\u001b[0m, in \u001b[0;36mCategoricalImageLabelingManager.run\u001b[0;34m(self)\u001b[0m\n\u001b[1;32m    219\u001b[0m     \u001b[38;5;28;01mcontinue\u001b[39;00m\n\u001b[1;32m    221\u001b[0m fnames \u001b[38;5;241m=\u001b[39m recv_data[\u001b[38;5;124m'\u001b[39m\u001b[38;5;124mfnames\u001b[39m\u001b[38;5;124m'\u001b[39m]\n\u001b[0;32m--> 222\u001b[0m labels \u001b[38;5;241m=\u001b[39m \u001b[38;5;28;43mself\u001b[39;49m\u001b[38;5;241;43m.\u001b[39;49m\u001b[43m_label_data\u001b[49m\u001b[43m(\u001b[49m\u001b[43mfnames\u001b[49m\u001b[43m)\u001b[49m\n\u001b[1;32m    223\u001b[0m send_data \u001b[38;5;241m=\u001b[39m {\n\u001b[1;32m    224\u001b[0m     \u001b[38;5;124m'\u001b[39m\u001b[38;5;124mlabels\u001b[39m\u001b[38;5;124m'\u001b[39m: labels\n\u001b[1;32m    225\u001b[0m }\n\u001b[1;32m    227\u001b[0m \u001b[38;5;28mself\u001b[39m\u001b[38;5;241m.\u001b[39m_server\u001b[38;5;241m.\u001b[39msend(\u001b[38;5;28mself\u001b[39m\u001b[38;5;241m.\u001b[39m_client_addr, json\u001b[38;5;241m.\u001b[39mdumps(send_data)\u001b[38;5;241m.\u001b[39mencode())\n",
      "File \u001b[0;32m~/work/rot-proj-2022/cloudsift/frontend/labeling_server.py:186\u001b[0m, in \u001b[0;36mCategoricalImageLabelingManager._label_data\u001b[0;34m(self, fnames)\u001b[0m\n\u001b[1;32m    184\u001b[0m \u001b[38;5;28;01mwhile\u001b[39;00m \u001b[38;5;28mself\u001b[39m\u001b[38;5;241m.\u001b[39mls_proj\u001b[38;5;241m.\u001b[39mget_unlabeled_tasks_ids():\n\u001b[1;32m    185\u001b[0m     \u001b[38;5;28mprint\u001b[39m(\u001b[38;5;124m\"\u001b[39m\u001b[38;5;124mWaiting for labeling to finish\u001b[39m\u001b[38;5;124m\"\u001b[39m)\n\u001b[0;32m--> 186\u001b[0m     \u001b[43mtime\u001b[49m\u001b[38;5;241;43m.\u001b[39;49m\u001b[43msleep\u001b[49m\u001b[43m(\u001b[49m\u001b[38;5;241;43m5\u001b[39;49m\u001b[43m)\u001b[49m\n\u001b[1;32m    188\u001b[0m labels \u001b[38;5;241m=\u001b[39m []\n\u001b[1;32m    189\u001b[0m \u001b[38;5;28;01mfor\u001b[39;00m task_id \u001b[38;5;129;01min\u001b[39;00m task_ids:\n",
      "\u001b[0;31mKeyboardInterrupt\u001b[0m: "
     ]
    }
   ],
   "source": [
    "manager.run()"
   ]
  },
  {
   "cell_type": "code",
   "execution_count": null,
   "id": "76b32b40-fcfc-4a1c-b0a8-ef733887c1ea",
   "metadata": {},
   "outputs": [],
   "source": []
  }
 ],
 "metadata": {
  "kernelspec": {
   "display_name": "Python [conda env:rot-work-ui]",
   "language": "python",
   "name": "conda-env-rot-work-ui-py"
  },
  "language_info": {
   "codemirror_mode": {
    "name": "ipython",
    "version": 3
   },
   "file_extension": ".py",
   "mimetype": "text/x-python",
   "name": "python",
   "nbconvert_exporter": "python",
   "pygments_lexer": "ipython3",
   "version": "3.10.9"
  }
 },
 "nbformat": 4,
 "nbformat_minor": 5
}
